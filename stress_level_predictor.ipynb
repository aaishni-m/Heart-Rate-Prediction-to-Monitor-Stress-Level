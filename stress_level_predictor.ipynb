{
 "cells": [
  {
   "cell_type": "code",
   "execution_count": 1,
   "metadata": {},
   "outputs": [],
   "source": [
    "import numpy as np\n",
    "import tensorflow as tf \n",
    "import pandas as pd\n",
    "from sklearn.preprocessing import StandardScaler\n",
    "import tensorflow.keras as k\n",
    "from sklearn.model_selection import train_test_split\n",
    "from matplotlib import pyplot as plt\n",
    "import time"
   ]
  },
  {
   "cell_type": "code",
   "execution_count": 19,
   "metadata": {},
   "outputs": [
    {
     "name": "stdout",
     "output_type": "stream",
     "text": [
      "                                   uuid          VLF    VLF_PCT           LF  \\\n",
      "0  00000adc-655e-417e-80e1-e9ff737a67fe   321.283852  49.781991   277.083067   \n",
      "1  000024de-dcbe-4797-82fb-b84b7fc7a244  1777.422472  64.160976   973.095386   \n",
      "2  00004949-63e6-41a0-891c-3be64e4a20c5   794.879688  35.621931  1380.790628   \n",
      "3  00006f1c-ba04-4894-9b03-0a4c5e8f66d7  3145.430710  69.006249  1407.742212   \n",
      "4  00016a23-2579-498d-8b4e-8eacd8fdc02f  5408.833162  78.016869  1232.699708   \n",
      "\n",
      "      LF_PCT      LF_NU          HF    HF_PCT      HF_NU           TP  ...  \\\n",
      "0  42.933209  85.493651   47.014762  7.284800  14.506349   645.381681  ...   \n",
      "1  35.126567  98.012063   19.736876  0.712457   1.987937  2770.254734  ...   \n",
      "2  61.879086  96.118269   55.763155  2.498984   3.881731  2231.433471  ...   \n",
      "3  30.883850  99.645407    5.009522  0.109902   0.354593  4558.182444  ...   \n",
      "4  17.780429  80.882148  291.369250  4.202702  19.117852  6932.902120  ...   \n",
      "\n",
      "       KURT      SKEW  MEAN_REL_RR  MEDIAN_REL_RR  SDRR_REL_RR  RMSSD_REL_RR  \\\n",
      "0  0.587088 -0.488301     0.000068       0.000348     0.013256      0.009104   \n",
      "1  0.489019  0.179729    -0.000020      -0.002606     0.017073      0.008040   \n",
      "2 -0.189207 -0.239950    -0.000052      -0.001508     0.023820      0.013738   \n",
      "3 -0.382627  0.007728     0.000217       0.000941     0.019254      0.008041   \n",
      "4  1.763236  1.343089     0.000294       0.000255     0.034629      0.023720   \n",
      "\n",
      "   SDSD_REL_RR SDRR_RMSSD_REL_RR  KURT_REL_RR  SKEW_REL_RR  \n",
      "0     0.009104          1.456159     0.587088    -0.488301  \n",
      "1     0.008040          2.123522     0.489019     0.179729  \n",
      "2     0.013737          1.733940    -0.189207    -0.239950  \n",
      "3     0.008041          2.394505    -0.382627     0.007728  \n",
      "4     0.023720          1.459873     1.763236     1.343089  \n",
      "\n",
      "[5 rows x 37 columns]\n"
     ]
    }
   ],
   "source": [
    "df1 = pd.read_csv(\"C:/Projects\\Stress Level Detector/Train Data/frequency_domain_features_train.csv\")\n",
    "df2 = pd.read_csv(\"C:/Projects\\Stress Level Detector/Train Data/heart_rate_non_linear_features_train.csv\")\n",
    "df3 = pd.read_csv(\"C:/Projects\\Stress Level Detector/Train Data/time_domain_features_train.csv\")\n",
    "\n",
    "# Merge DataFrames on a common key (e.g., 'ID')\n",
    "combined_train = pd.merge(df1, df2, on='uuid', how='outer')\n",
    "combined_train = pd.merge(combined_train, df3, on='uuid', how='outer')\n",
    "\n",
    "print(combined_train.head())"
   ]
  },
  {
   "cell_type": "code",
   "execution_count": 21,
   "metadata": {},
   "outputs": [
    {
     "name": "stdout",
     "output_type": "stream",
     "text": [
      "                                   uuid          VLF    VLF_PCT           LF  \\\n",
      "0  0002c510-b64c-47fc-82a4-6a5eb6dde1f7  8301.221164  88.579962   996.666154   \n",
      "1  00035f6f-c710-40c4-b5dd-1723bbcc8d24  1651.695406  48.381261  1742.137072   \n",
      "2  0003f5e9-5f6e-415a-b7a4-4ad496601d06  1132.089595  71.808918   428.957254   \n",
      "3  00045f92-dd9d-478e-9081-48a6f1467196  1522.885252  43.761832  1935.301130   \n",
      "4  00053021-3d2a-4e9b-95f4-9f48b8d2f863  4353.496105  86.515564   678.325273   \n",
      "\n",
      "      LF_PCT      LF_NU         HF    HF_PCT     HF_NU           TP  ...  \\\n",
      "0  10.635140  93.127009  73.556289  0.784898  6.872991  9371.443606  ...   \n",
      "1  51.030467  98.860351  20.083131  0.588273  1.139649  3413.915609  ...   \n",
      "2  27.208939  96.516120  15.483791  0.982143  3.483880  1576.530640  ...   \n",
      "3  55.613069  98.888479  21.753070  0.625099  1.111521  3479.939451  ...   \n",
      "4  13.480130  99.968070   0.216656  0.004306  0.031930  5032.038034  ...   \n",
      "\n",
      "       KURT      SKEW  MEAN_REL_RR  MEDIAN_REL_RR  SDRR_REL_RR  RMSSD_REL_RR  \\\n",
      "0 -1.053949  0.459294     0.000187       0.000331     0.024324      0.012668   \n",
      "1 -0.197357  0.406351    -0.000175      -0.001473     0.023169      0.012483   \n",
      "2 -0.000169 -0.321729    -0.000070       0.000108     0.012217      0.005868   \n",
      "3  0.411880 -0.785286     0.000020      -0.001840     0.021612      0.008974   \n",
      "4 -0.630701 -0.291777    -0.000081       0.000230     0.015308      0.004860   \n",
      "\n",
      "   SDSD_REL_RR SDRR_RMSSD_REL_RR  KURT_REL_RR  SKEW_REL_RR  \n",
      "0     0.012668          1.920132    -1.053949     0.459294  \n",
      "1     0.012483          1.856060    -0.197357     0.406351  \n",
      "2     0.005868          2.081918    -0.000169    -0.321729  \n",
      "3     0.008974          2.408290     0.411880    -0.785286  \n",
      "4     0.004860          3.150014    -0.630701    -0.291777  \n",
      "\n",
      "[5 rows x 36 columns]\n"
     ]
    }
   ],
   "source": [
    "# File paths for test data\n",
    "test_file1 = r\"C:\\Projects\\Stress Level Detector\\Test Data\\frequency_domain_features_test.csv\"\n",
    "test_file2 = r\"C:\\Projects\\Stress Level Detector\\Test Data\\heart_rate_non_linear_features_test.csv\"\n",
    "test_file3 = r\"C:\\Projects\\Stress Level Detector\\Test Data\\time_domain_features_test.csv\"\n",
    "\n",
    "# Load the test data\n",
    "test_df1 = pd.read_csv(test_file1)\n",
    "test_df2 = pd.read_csv(test_file2)\n",
    "test_df3 = pd.read_csv(test_file3)\n",
    "\n",
    "# Merge DataFrames on a common key (e.g., 'ID')\n",
    "combined_test = pd.merge(test_df1, test_df2, on='uuid', how='outer')\n",
    "combined_test = pd.merge(combined_test, test_df3, on='uuid', how='outer')\n",
    "\n",
    "# Display the combined test data\n",
    "print(combined_test.head())\n"
   ]
  },
  {
   "cell_type": "code",
   "execution_count": 32,
   "metadata": {},
   "outputs": [
    {
     "data": {
      "text/plain": [
       "37"
      ]
     },
     "execution_count": 32,
     "metadata": {},
     "output_type": "execute_result"
    }
   ],
   "source": [
    "combined_train_count = len(combined_train.columns)\n",
    "combined_train_count"
   ]
  },
  {
   "cell_type": "code",
   "execution_count": 33,
   "metadata": {},
   "outputs": [
    {
     "data": {
      "text/html": [
       "<div>\n",
       "<style scoped>\n",
       "    .dataframe tbody tr th:only-of-type {\n",
       "        vertical-align: middle;\n",
       "    }\n",
       "\n",
       "    .dataframe tbody tr th {\n",
       "        vertical-align: top;\n",
       "    }\n",
       "\n",
       "    .dataframe thead th {\n",
       "        text-align: right;\n",
       "    }\n",
       "</style>\n",
       "<table border=\"1\" class=\"dataframe\">\n",
       "  <thead>\n",
       "    <tr style=\"text-align: right;\">\n",
       "      <th></th>\n",
       "      <th>uuid</th>\n",
       "      <th>VLF</th>\n",
       "      <th>VLF_PCT</th>\n",
       "      <th>LF</th>\n",
       "      <th>LF_PCT</th>\n",
       "      <th>LF_NU</th>\n",
       "      <th>HF</th>\n",
       "      <th>HF_PCT</th>\n",
       "      <th>HF_NU</th>\n",
       "      <th>TP</th>\n",
       "      <th>...</th>\n",
       "      <th>KURT</th>\n",
       "      <th>SKEW</th>\n",
       "      <th>MEAN_REL_RR</th>\n",
       "      <th>MEDIAN_REL_RR</th>\n",
       "      <th>SDRR_REL_RR</th>\n",
       "      <th>RMSSD_REL_RR</th>\n",
       "      <th>SDSD_REL_RR</th>\n",
       "      <th>SDRR_RMSSD_REL_RR</th>\n",
       "      <th>KURT_REL_RR</th>\n",
       "      <th>SKEW_REL_RR</th>\n",
       "    </tr>\n",
       "  </thead>\n",
       "  <tbody>\n",
       "    <tr>\n",
       "      <th>0</th>\n",
       "      <td>00000adc-655e-417e-80e1-e9ff737a67fe</td>\n",
       "      <td>321.283852</td>\n",
       "      <td>49.781991</td>\n",
       "      <td>277.083067</td>\n",
       "      <td>42.933209</td>\n",
       "      <td>85.493651</td>\n",
       "      <td>47.014762</td>\n",
       "      <td>7.284800</td>\n",
       "      <td>14.506349</td>\n",
       "      <td>645.381681</td>\n",
       "      <td>...</td>\n",
       "      <td>0.587088</td>\n",
       "      <td>-0.488301</td>\n",
       "      <td>0.000068</td>\n",
       "      <td>0.000348</td>\n",
       "      <td>0.013256</td>\n",
       "      <td>0.009104</td>\n",
       "      <td>0.009104</td>\n",
       "      <td>1.456159</td>\n",
       "      <td>0.587088</td>\n",
       "      <td>-0.488301</td>\n",
       "    </tr>\n",
       "    <tr>\n",
       "      <th>1</th>\n",
       "      <td>000024de-dcbe-4797-82fb-b84b7fc7a244</td>\n",
       "      <td>1777.422472</td>\n",
       "      <td>64.160976</td>\n",
       "      <td>973.095386</td>\n",
       "      <td>35.126567</td>\n",
       "      <td>98.012063</td>\n",
       "      <td>19.736876</td>\n",
       "      <td>0.712457</td>\n",
       "      <td>1.987937</td>\n",
       "      <td>2770.254734</td>\n",
       "      <td>...</td>\n",
       "      <td>0.489019</td>\n",
       "      <td>0.179729</td>\n",
       "      <td>-0.000020</td>\n",
       "      <td>-0.002606</td>\n",
       "      <td>0.017073</td>\n",
       "      <td>0.008040</td>\n",
       "      <td>0.008040</td>\n",
       "      <td>2.123522</td>\n",
       "      <td>0.489019</td>\n",
       "      <td>0.179729</td>\n",
       "    </tr>\n",
       "    <tr>\n",
       "      <th>2</th>\n",
       "      <td>00004949-63e6-41a0-891c-3be64e4a20c5</td>\n",
       "      <td>794.879688</td>\n",
       "      <td>35.621931</td>\n",
       "      <td>1380.790628</td>\n",
       "      <td>61.879086</td>\n",
       "      <td>96.118269</td>\n",
       "      <td>55.763155</td>\n",
       "      <td>2.498984</td>\n",
       "      <td>3.881731</td>\n",
       "      <td>2231.433471</td>\n",
       "      <td>...</td>\n",
       "      <td>-0.189207</td>\n",
       "      <td>-0.239950</td>\n",
       "      <td>-0.000052</td>\n",
       "      <td>-0.001508</td>\n",
       "      <td>0.023820</td>\n",
       "      <td>0.013738</td>\n",
       "      <td>0.013737</td>\n",
       "      <td>1.733940</td>\n",
       "      <td>-0.189207</td>\n",
       "      <td>-0.239950</td>\n",
       "    </tr>\n",
       "    <tr>\n",
       "      <th>3</th>\n",
       "      <td>00006f1c-ba04-4894-9b03-0a4c5e8f66d7</td>\n",
       "      <td>3145.430710</td>\n",
       "      <td>69.006249</td>\n",
       "      <td>1407.742212</td>\n",
       "      <td>30.883850</td>\n",
       "      <td>99.645407</td>\n",
       "      <td>5.009522</td>\n",
       "      <td>0.109902</td>\n",
       "      <td>0.354593</td>\n",
       "      <td>4558.182444</td>\n",
       "      <td>...</td>\n",
       "      <td>-0.382627</td>\n",
       "      <td>0.007728</td>\n",
       "      <td>0.000217</td>\n",
       "      <td>0.000941</td>\n",
       "      <td>0.019254</td>\n",
       "      <td>0.008041</td>\n",
       "      <td>0.008041</td>\n",
       "      <td>2.394505</td>\n",
       "      <td>-0.382627</td>\n",
       "      <td>0.007728</td>\n",
       "    </tr>\n",
       "    <tr>\n",
       "      <th>4</th>\n",
       "      <td>00016a23-2579-498d-8b4e-8eacd8fdc02f</td>\n",
       "      <td>5408.833162</td>\n",
       "      <td>78.016869</td>\n",
       "      <td>1232.699708</td>\n",
       "      <td>17.780429</td>\n",
       "      <td>80.882148</td>\n",
       "      <td>291.369250</td>\n",
       "      <td>4.202702</td>\n",
       "      <td>19.117852</td>\n",
       "      <td>6932.902120</td>\n",
       "      <td>...</td>\n",
       "      <td>1.763236</td>\n",
       "      <td>1.343089</td>\n",
       "      <td>0.000294</td>\n",
       "      <td>0.000255</td>\n",
       "      <td>0.034629</td>\n",
       "      <td>0.023720</td>\n",
       "      <td>0.023720</td>\n",
       "      <td>1.459873</td>\n",
       "      <td>1.763236</td>\n",
       "      <td>1.343089</td>\n",
       "    </tr>\n",
       "  </tbody>\n",
       "</table>\n",
       "<p>5 rows × 37 columns</p>\n",
       "</div>"
      ],
      "text/plain": [
       "                                   uuid          VLF    VLF_PCT           LF  \\\n",
       "0  00000adc-655e-417e-80e1-e9ff737a67fe   321.283852  49.781991   277.083067   \n",
       "1  000024de-dcbe-4797-82fb-b84b7fc7a244  1777.422472  64.160976   973.095386   \n",
       "2  00004949-63e6-41a0-891c-3be64e4a20c5   794.879688  35.621931  1380.790628   \n",
       "3  00006f1c-ba04-4894-9b03-0a4c5e8f66d7  3145.430710  69.006249  1407.742212   \n",
       "4  00016a23-2579-498d-8b4e-8eacd8fdc02f  5408.833162  78.016869  1232.699708   \n",
       "\n",
       "      LF_PCT      LF_NU          HF    HF_PCT      HF_NU           TP  ...  \\\n",
       "0  42.933209  85.493651   47.014762  7.284800  14.506349   645.381681  ...   \n",
       "1  35.126567  98.012063   19.736876  0.712457   1.987937  2770.254734  ...   \n",
       "2  61.879086  96.118269   55.763155  2.498984   3.881731  2231.433471  ...   \n",
       "3  30.883850  99.645407    5.009522  0.109902   0.354593  4558.182444  ...   \n",
       "4  17.780429  80.882148  291.369250  4.202702  19.117852  6932.902120  ...   \n",
       "\n",
       "       KURT      SKEW  MEAN_REL_RR  MEDIAN_REL_RR  SDRR_REL_RR  RMSSD_REL_RR  \\\n",
       "0  0.587088 -0.488301     0.000068       0.000348     0.013256      0.009104   \n",
       "1  0.489019  0.179729    -0.000020      -0.002606     0.017073      0.008040   \n",
       "2 -0.189207 -0.239950    -0.000052      -0.001508     0.023820      0.013738   \n",
       "3 -0.382627  0.007728     0.000217       0.000941     0.019254      0.008041   \n",
       "4  1.763236  1.343089     0.000294       0.000255     0.034629      0.023720   \n",
       "\n",
       "   SDSD_REL_RR SDRR_RMSSD_REL_RR  KURT_REL_RR  SKEW_REL_RR  \n",
       "0     0.009104          1.456159     0.587088    -0.488301  \n",
       "1     0.008040          2.123522     0.489019     0.179729  \n",
       "2     0.013737          1.733940    -0.189207    -0.239950  \n",
       "3     0.008041          2.394505    -0.382627     0.007728  \n",
       "4     0.023720          1.459873     1.763236     1.343089  \n",
       "\n",
       "[5 rows x 37 columns]"
      ]
     },
     "execution_count": 33,
     "metadata": {},
     "output_type": "execute_result"
    }
   ],
   "source": [
    "combined_train.head()"
   ]
  },
  {
   "cell_type": "code",
   "execution_count": 49,
   "metadata": {},
   "outputs": [],
   "source": [
    "label = ['condition']\n",
    "features = ['MEAN_RR','RMSSD','pNN25','pNN50','LF','HF','LF_HF']"
   ]
  },
  {
   "cell_type": "code",
   "execution_count": 50,
   "metadata": {},
   "outputs": [],
   "source": [
    "scaler = StandardScaler()\n",
    "scaler.fit(combined_train[features])\n",
    "combined_train[features] = scaler.transform(combined_train[features])\n"
   ]
  },
  {
   "cell_type": "code",
   "execution_count": 51,
   "metadata": {},
   "outputs": [],
   "source": [
    "x = combined_train[features].values\n",
    "y = combined_train[label].values"
   ]
  },
  {
   "cell_type": "code",
   "execution_count": 52,
   "metadata": {},
   "outputs": [
    {
     "name": "stdout",
     "output_type": "stream",
     "text": [
      "(258502, 7) (258502, 1) (110787, 7) (110787, 1)\n"
     ]
    }
   ],
   "source": [
    "x_train, x_test,y_train,y_test = train_test_split(x,y,test_size=0.3,random_state=40)\n",
    "print(x_train.shape,y_train.shape,x_test.shape,y_test.shape)"
   ]
  },
  {
   "cell_type": "code",
   "execution_count": 54,
   "metadata": {},
   "outputs": [
    {
     "name": "stdout",
     "output_type": "stream",
     "text": [
      "One-hot encoded y_train: [[0. 1. 0.]\n",
      " [0. 0. 1.]\n",
      " [1. 0. 0.]\n",
      " [0. 1. 0.]\n",
      " [0. 0. 1.]\n",
      " [0. 0. 1.]\n",
      " [0. 1. 0.]\n",
      " [0. 0. 1.]\n",
      " [0. 0. 1.]\n",
      " [0. 1. 0.]]\n"
     ]
    },
    {
     "name": "stderr",
     "output_type": "stream",
     "text": [
      "c:\\Projects\\venv\\lib\\site-packages\\sklearn\\preprocessing\\_label.py:110: DataConversionWarning: A column-vector y was passed when a 1d array was expected. Please change the shape of y to (n_samples, ), for example using ravel().\n",
      "  y = column_or_1d(y, warn=True)\n",
      "c:\\Projects\\venv\\lib\\site-packages\\sklearn\\preprocessing\\_label.py:129: DataConversionWarning: A column-vector y was passed when a 1d array was expected. Please change the shape of y to (n_samples, ), for example using ravel().\n",
      "  y = column_or_1d(y, dtype=self.classes_.dtype, warn=True)\n"
     ]
    }
   ],
   "source": [
    "from sklearn.preprocessing import LabelEncoder\n",
    "from keras.utils import to_categorical\n",
    "\n",
    "# Assuming y_train and y_test are the original label arrays (with string labels like 'no stress')\n",
    "label_encoder = LabelEncoder()\n",
    "\n",
    "# Fit and transform the train labels\n",
    "y_train = label_encoder.fit_transform(y_train)\n",
    "\n",
    "# Transform the test labels\n",
    "y_test = label_encoder.transform(y_test)\n",
    "\n",
    "# Convert to one-hot encoding\n",
    "y_train = to_categorical(y_train)\n",
    "y_test = to_categorical(y_test)\n",
    "\n",
    "print(\"One-hot encoded y_train:\", y_train[:10])  # Print first 10 encoded labels for verification"
   ]
  },
  {
   "cell_type": "markdown",
   "metadata": {},
   "source": [
    "creating model"
   ]
  },
  {
   "cell_type": "code",
   "execution_count": 55,
   "metadata": {},
   "outputs": [],
   "source": [
    "from tensorflow.keras import Sequential\n",
    "from tensorflow.keras.layers import Dense"
   ]
  },
  {
   "cell_type": "code",
   "execution_count": 56,
   "metadata": {},
   "outputs": [
    {
     "name": "stderr",
     "output_type": "stream",
     "text": [
      "c:\\Projects\\venv\\lib\\site-packages\\keras\\src\\layers\\core\\dense.py:87: UserWarning: Do not pass an `input_shape`/`input_dim` argument to a layer. When using Sequential models, prefer using an `Input(shape)` object as the first layer in the model instead.\n",
      "  super().__init__(activity_regularizer=activity_regularizer, **kwargs)\n"
     ]
    }
   ],
   "source": [
    "model = Sequential()\n",
    "model.add(Dense(50, activation='relu',kernel_initializer='he_normal', input_shape=(x_train.shape[1],)))\n",
    "model.add(Dense(20, activation='relu',kernel_initializer='he_normal'))\n",
    "model.add(Dense(10, activation='relu',kernel_initializer='he_normal'))\n",
    "model.add(Dense(3,activation='softmax'))"
   ]
  },
  {
   "cell_type": "code",
   "execution_count": 57,
   "metadata": {},
   "outputs": [],
   "source": [
    "model.compile(optimizer='adam',loss='categorical_crossentropy',metrics=['accuracy'])"
   ]
  },
  {
   "cell_type": "code",
   "execution_count": 58,
   "metadata": {},
   "outputs": [
    {
     "name": "stdout",
     "output_type": "stream",
     "text": [
      "Epoch 1/50\n",
      "\u001b[1m253/253\u001b[0m \u001b[32m━━━━━━━━━━━━━━━━━━━━\u001b[0m\u001b[37m\u001b[0m \u001b[1m5s\u001b[0m 8ms/step - accuracy: 0.6188 - loss: 0.9054 - val_accuracy: 0.6858 - val_loss: 0.7163\n",
      "Epoch 2/50\n",
      "\u001b[1m253/253\u001b[0m \u001b[32m━━━━━━━━━━━━━━━━━━━━\u001b[0m\u001b[37m\u001b[0m \u001b[1m2s\u001b[0m 6ms/step - accuracy: 0.7144 - loss: 0.6783 - val_accuracy: 0.7807 - val_loss: 0.5707\n",
      "Epoch 3/50\n",
      "\u001b[1m253/253\u001b[0m \u001b[32m━━━━━━━━━━━━━━━━━━━━\u001b[0m\u001b[37m\u001b[0m \u001b[1m2s\u001b[0m 6ms/step - accuracy: 0.7850 - loss: 0.5498 - val_accuracy: 0.8127 - val_loss: 0.4761\n",
      "Epoch 4/50\n",
      "\u001b[1m253/253\u001b[0m \u001b[32m━━━━━━━━━━━━━━━━━━━━\u001b[0m\u001b[37m\u001b[0m \u001b[1m2s\u001b[0m 7ms/step - accuracy: 0.8194 - loss: 0.4623 - val_accuracy: 0.8453 - val_loss: 0.4101\n",
      "Epoch 5/50\n",
      "\u001b[1m253/253\u001b[0m \u001b[32m━━━━━━━━━━━━━━━━━━━━\u001b[0m\u001b[37m\u001b[0m \u001b[1m2s\u001b[0m 7ms/step - accuracy: 0.8497 - loss: 0.4007 - val_accuracy: 0.8665 - val_loss: 0.3684\n",
      "Epoch 6/50\n",
      "\u001b[1m253/253\u001b[0m \u001b[32m━━━━━━━━━━━━━━━━━━━━\u001b[0m\u001b[37m\u001b[0m \u001b[1m2s\u001b[0m 7ms/step - accuracy: 0.8656 - loss: 0.3640 - val_accuracy: 0.8770 - val_loss: 0.3379\n",
      "Epoch 7/50\n",
      "\u001b[1m253/253\u001b[0m \u001b[32m━━━━━━━━━━━━━━━━━━━━\u001b[0m\u001b[37m\u001b[0m \u001b[1m2s\u001b[0m 7ms/step - accuracy: 0.8763 - loss: 0.3365 - val_accuracy: 0.8868 - val_loss: 0.3119\n",
      "Epoch 8/50\n",
      "\u001b[1m253/253\u001b[0m \u001b[32m━━━━━━━━━━━━━━━━━━━━\u001b[0m\u001b[37m\u001b[0m \u001b[1m2s\u001b[0m 7ms/step - accuracy: 0.8852 - loss: 0.3121 - val_accuracy: 0.8923 - val_loss: 0.2952\n",
      "Epoch 9/50\n",
      "\u001b[1m253/253\u001b[0m \u001b[32m━━━━━━━━━━━━━━━━━━━━\u001b[0m\u001b[37m\u001b[0m \u001b[1m2s\u001b[0m 8ms/step - accuracy: 0.8914 - loss: 0.2916 - val_accuracy: 0.8996 - val_loss: 0.2752\n",
      "Epoch 10/50\n",
      "\u001b[1m253/253\u001b[0m \u001b[32m━━━━━━━━━━━━━━━━━━━━\u001b[0m\u001b[37m\u001b[0m \u001b[1m2s\u001b[0m 8ms/step - accuracy: 0.8988 - loss: 0.2740 - val_accuracy: 0.9022 - val_loss: 0.2659\n",
      "Epoch 11/50\n",
      "\u001b[1m253/253\u001b[0m \u001b[32m━━━━━━━━━━━━━━━━━━━━\u001b[0m\u001b[37m\u001b[0m \u001b[1m2s\u001b[0m 7ms/step - accuracy: 0.9039 - loss: 0.2612 - val_accuracy: 0.9091 - val_loss: 0.2482\n",
      "Epoch 12/50\n",
      "\u001b[1m253/253\u001b[0m \u001b[32m━━━━━━━━━━━━━━━━━━━━\u001b[0m\u001b[37m\u001b[0m \u001b[1m2s\u001b[0m 8ms/step - accuracy: 0.9073 - loss: 0.2497 - val_accuracy: 0.9108 - val_loss: 0.2414\n",
      "Epoch 13/50\n",
      "\u001b[1m253/253\u001b[0m \u001b[32m━━━━━━━━━━━━━━━━━━━━\u001b[0m\u001b[37m\u001b[0m \u001b[1m2s\u001b[0m 7ms/step - accuracy: 0.9114 - loss: 0.2379 - val_accuracy: 0.9126 - val_loss: 0.2310\n",
      "Epoch 14/50\n",
      "\u001b[1m253/253\u001b[0m \u001b[32m━━━━━━━━━━━━━━━━━━━━\u001b[0m\u001b[37m\u001b[0m \u001b[1m2s\u001b[0m 8ms/step - accuracy: 0.9151 - loss: 0.2297 - val_accuracy: 0.9198 - val_loss: 0.2185\n",
      "Epoch 15/50\n",
      "\u001b[1m253/253\u001b[0m \u001b[32m━━━━━━━━━━━━━━━━━━━━\u001b[0m\u001b[37m\u001b[0m \u001b[1m2s\u001b[0m 9ms/step - accuracy: 0.9179 - loss: 0.2224 - val_accuracy: 0.9205 - val_loss: 0.2153\n",
      "Epoch 16/50\n",
      "\u001b[1m253/253\u001b[0m \u001b[32m━━━━━━━━━━━━━━━━━━━━\u001b[0m\u001b[37m\u001b[0m \u001b[1m2s\u001b[0m 8ms/step - accuracy: 0.9206 - loss: 0.2150 - val_accuracy: 0.9267 - val_loss: 0.2035\n",
      "Epoch 17/50\n",
      "\u001b[1m253/253\u001b[0m \u001b[32m━━━━━━━━━━━━━━━━━━━━\u001b[0m\u001b[37m\u001b[0m \u001b[1m2s\u001b[0m 8ms/step - accuracy: 0.9251 - loss: 0.2047 - val_accuracy: 0.9297 - val_loss: 0.1965\n",
      "Epoch 18/50\n",
      "\u001b[1m253/253\u001b[0m \u001b[32m━━━━━━━━━━━━━━━━━━━━\u001b[0m\u001b[37m\u001b[0m \u001b[1m2s\u001b[0m 8ms/step - accuracy: 0.9268 - loss: 0.1986 - val_accuracy: 0.9282 - val_loss: 0.1955\n",
      "Epoch 19/50\n",
      "\u001b[1m253/253\u001b[0m \u001b[32m━━━━━━━━━━━━━━━━━━━━\u001b[0m\u001b[37m\u001b[0m \u001b[1m2s\u001b[0m 9ms/step - accuracy: 0.9298 - loss: 0.1930 - val_accuracy: 0.9324 - val_loss: 0.1848\n",
      "Epoch 20/50\n",
      "\u001b[1m253/253\u001b[0m \u001b[32m━━━━━━━━━━━━━━━━━━━━\u001b[0m\u001b[37m\u001b[0m \u001b[1m2s\u001b[0m 8ms/step - accuracy: 0.9328 - loss: 0.1862 - val_accuracy: 0.9347 - val_loss: 0.1801\n",
      "Epoch 21/50\n",
      "\u001b[1m253/253\u001b[0m \u001b[32m━━━━━━━━━━━━━━━━━━━━\u001b[0m\u001b[37m\u001b[0m \u001b[1m2s\u001b[0m 8ms/step - accuracy: 0.9350 - loss: 0.1817 - val_accuracy: 0.9381 - val_loss: 0.1746\n",
      "Epoch 22/50\n",
      "\u001b[1m253/253\u001b[0m \u001b[32m━━━━━━━━━━━━━━━━━━━━\u001b[0m\u001b[37m\u001b[0m \u001b[1m2s\u001b[0m 8ms/step - accuracy: 0.9359 - loss: 0.1771 - val_accuracy: 0.9391 - val_loss: 0.1722\n",
      "Epoch 23/50\n",
      "\u001b[1m253/253\u001b[0m \u001b[32m━━━━━━━━━━━━━━━━━━━━\u001b[0m\u001b[37m\u001b[0m \u001b[1m2s\u001b[0m 9ms/step - accuracy: 0.9370 - loss: 0.1735 - val_accuracy: 0.9409 - val_loss: 0.1677\n",
      "Epoch 24/50\n",
      "\u001b[1m253/253\u001b[0m \u001b[32m━━━━━━━━━━━━━━━━━━━━\u001b[0m\u001b[37m\u001b[0m \u001b[1m2s\u001b[0m 9ms/step - accuracy: 0.9383 - loss: 0.1702 - val_accuracy: 0.9426 - val_loss: 0.1618\n",
      "Epoch 25/50\n",
      "\u001b[1m253/253\u001b[0m \u001b[32m━━━━━━━━━━━━━━━━━━━━\u001b[0m\u001b[37m\u001b[0m \u001b[1m2s\u001b[0m 8ms/step - accuracy: 0.9405 - loss: 0.1651 - val_accuracy: 0.9408 - val_loss: 0.1638\n",
      "Epoch 26/50\n",
      "\u001b[1m253/253\u001b[0m \u001b[32m━━━━━━━━━━━━━━━━━━━━\u001b[0m\u001b[37m\u001b[0m \u001b[1m2s\u001b[0m 9ms/step - accuracy: 0.9419 - loss: 0.1618 - val_accuracy: 0.9429 - val_loss: 0.1609\n",
      "Epoch 27/50\n",
      "\u001b[1m253/253\u001b[0m \u001b[32m━━━━━━━━━━━━━━━━━━━━\u001b[0m\u001b[37m\u001b[0m \u001b[1m3s\u001b[0m 10ms/step - accuracy: 0.9425 - loss: 0.1587 - val_accuracy: 0.9455 - val_loss: 0.1534\n",
      "Epoch 28/50\n",
      "\u001b[1m253/253\u001b[0m \u001b[32m━━━━━━━━━━━━━━━━━━━━\u001b[0m\u001b[37m\u001b[0m \u001b[1m2s\u001b[0m 9ms/step - accuracy: 0.9442 - loss: 0.1551 - val_accuracy: 0.9450 - val_loss: 0.1554\n",
      "Epoch 29/50\n",
      "\u001b[1m253/253\u001b[0m \u001b[32m━━━━━━━━━━━━━━━━━━━━\u001b[0m\u001b[37m\u001b[0m \u001b[1m2s\u001b[0m 9ms/step - accuracy: 0.9450 - loss: 0.1533 - val_accuracy: 0.9464 - val_loss: 0.1495\n",
      "Epoch 30/50\n",
      "\u001b[1m253/253\u001b[0m \u001b[32m━━━━━━━━━━━━━━━━━━━━\u001b[0m\u001b[37m\u001b[0m \u001b[1m2s\u001b[0m 9ms/step - accuracy: 0.9472 - loss: 0.1492 - val_accuracy: 0.9481 - val_loss: 0.1490\n",
      "Epoch 31/50\n",
      "\u001b[1m253/253\u001b[0m \u001b[32m━━━━━━━━━━━━━━━━━━━━\u001b[0m\u001b[37m\u001b[0m \u001b[1m2s\u001b[0m 9ms/step - accuracy: 0.9479 - loss: 0.1457 - val_accuracy: 0.9463 - val_loss: 0.1490\n",
      "Epoch 32/50\n",
      "\u001b[1m253/253\u001b[0m \u001b[32m━━━━━━━━━━━━━━━━━━━━\u001b[0m\u001b[37m\u001b[0m \u001b[1m3s\u001b[0m 11ms/step - accuracy: 0.9479 - loss: 0.1458 - val_accuracy: 0.9504 - val_loss: 0.1394\n",
      "Epoch 33/50\n",
      "\u001b[1m253/253\u001b[0m \u001b[32m━━━━━━━━━━━━━━━━━━━━\u001b[0m\u001b[37m\u001b[0m \u001b[1m3s\u001b[0m 10ms/step - accuracy: 0.9491 - loss: 0.1425 - val_accuracy: 0.9519 - val_loss: 0.1362\n",
      "Epoch 34/50\n",
      "\u001b[1m253/253\u001b[0m \u001b[32m━━━━━━━━━━━━━━━━━━━━\u001b[0m\u001b[37m\u001b[0m \u001b[1m2s\u001b[0m 9ms/step - accuracy: 0.9501 - loss: 0.1386 - val_accuracy: 0.9514 - val_loss: 0.1375\n",
      "Epoch 35/50\n",
      "\u001b[1m253/253\u001b[0m \u001b[32m━━━━━━━━━━━━━━━━━━━━\u001b[0m\u001b[37m\u001b[0m \u001b[1m2s\u001b[0m 9ms/step - accuracy: 0.9517 - loss: 0.1365 - val_accuracy: 0.9500 - val_loss: 0.1395\n",
      "Epoch 36/50\n",
      "\u001b[1m253/253\u001b[0m \u001b[32m━━━━━━━━━━━━━━━━━━━━\u001b[0m\u001b[37m\u001b[0m \u001b[1m5s\u001b[0m 18ms/step - accuracy: 0.9524 - loss: 0.1336 - val_accuracy: 0.9544 - val_loss: 0.1295\n",
      "Epoch 37/50\n",
      "\u001b[1m253/253\u001b[0m \u001b[32m━━━━━━━━━━━━━━━━━━━━\u001b[0m\u001b[37m\u001b[0m \u001b[1m3s\u001b[0m 12ms/step - accuracy: 0.9534 - loss: 0.1320 - val_accuracy: 0.9546 - val_loss: 0.1295\n",
      "Epoch 38/50\n",
      "\u001b[1m253/253\u001b[0m \u001b[32m━━━━━━━━━━━━━━━━━━━━\u001b[0m\u001b[37m\u001b[0m \u001b[1m3s\u001b[0m 10ms/step - accuracy: 0.9542 - loss: 0.1295 - val_accuracy: 0.9557 - val_loss: 0.1263\n",
      "Epoch 39/50\n",
      "\u001b[1m253/253\u001b[0m \u001b[32m━━━━━━━━━━━━━━━━━━━━\u001b[0m\u001b[37m\u001b[0m \u001b[1m2s\u001b[0m 8ms/step - accuracy: 0.9544 - loss: 0.1281 - val_accuracy: 0.9526 - val_loss: 0.1301\n",
      "Epoch 40/50\n",
      "\u001b[1m253/253\u001b[0m \u001b[32m━━━━━━━━━━━━━━━━━━━━\u001b[0m\u001b[37m\u001b[0m \u001b[1m2s\u001b[0m 8ms/step - accuracy: 0.9549 - loss: 0.1266 - val_accuracy: 0.9555 - val_loss: 0.1249\n",
      "Epoch 41/50\n",
      "\u001b[1m253/253\u001b[0m \u001b[32m━━━━━━━━━━━━━━━━━━━━\u001b[0m\u001b[37m\u001b[0m \u001b[1m2s\u001b[0m 8ms/step - accuracy: 0.9565 - loss: 0.1242 - val_accuracy: 0.9587 - val_loss: 0.1189\n",
      "Epoch 42/50\n",
      "\u001b[1m253/253\u001b[0m \u001b[32m━━━━━━━━━━━━━━━━━━━━\u001b[0m\u001b[37m\u001b[0m \u001b[1m2s\u001b[0m 9ms/step - accuracy: 0.9573 - loss: 0.1221 - val_accuracy: 0.9566 - val_loss: 0.1236\n",
      "Epoch 43/50\n",
      "\u001b[1m253/253\u001b[0m \u001b[32m━━━━━━━━━━━━━━━━━━━━\u001b[0m\u001b[37m\u001b[0m \u001b[1m2s\u001b[0m 9ms/step - accuracy: 0.9579 - loss: 0.1203 - val_accuracy: 0.9601 - val_loss: 0.1152\n",
      "Epoch 44/50\n",
      "\u001b[1m253/253\u001b[0m \u001b[32m━━━━━━━━━━━━━━━━━━━━\u001b[0m\u001b[37m\u001b[0m \u001b[1m2s\u001b[0m 8ms/step - accuracy: 0.9582 - loss: 0.1186 - val_accuracy: 0.9597 - val_loss: 0.1166\n",
      "Epoch 45/50\n",
      "\u001b[1m253/253\u001b[0m \u001b[32m━━━━━━━━━━━━━━━━━━━━\u001b[0m\u001b[37m\u001b[0m \u001b[1m2s\u001b[0m 9ms/step - accuracy: 0.9567 - loss: 0.1202 - val_accuracy: 0.9572 - val_loss: 0.1200\n",
      "Epoch 46/50\n",
      "\u001b[1m253/253\u001b[0m \u001b[32m━━━━━━━━━━━━━━━━━━━━\u001b[0m\u001b[37m\u001b[0m \u001b[1m2s\u001b[0m 7ms/step - accuracy: 0.9593 - loss: 0.1152 - val_accuracy: 0.9593 - val_loss: 0.1148\n",
      "Epoch 47/50\n",
      "\u001b[1m253/253\u001b[0m \u001b[32m━━━━━━━━━━━━━━━━━━━━\u001b[0m\u001b[37m\u001b[0m \u001b[1m2s\u001b[0m 7ms/step - accuracy: 0.9594 - loss: 0.1155 - val_accuracy: 0.9597 - val_loss: 0.1161\n",
      "Epoch 48/50\n",
      "\u001b[1m253/253\u001b[0m \u001b[32m━━━━━━━━━━━━━━━━━━━━\u001b[0m\u001b[37m\u001b[0m \u001b[1m2s\u001b[0m 8ms/step - accuracy: 0.9605 - loss: 0.1119 - val_accuracy: 0.9629 - val_loss: 0.1079\n",
      "Epoch 49/50\n",
      "\u001b[1m253/253\u001b[0m \u001b[32m━━━━━━━━━━━━━━━━━━━━\u001b[0m\u001b[37m\u001b[0m \u001b[1m4s\u001b[0m 13ms/step - accuracy: 0.9618 - loss: 0.1095 - val_accuracy: 0.9600 - val_loss: 0.1135\n",
      "Epoch 50/50\n",
      "\u001b[1m253/253\u001b[0m \u001b[32m━━━━━━━━━━━━━━━━━━━━\u001b[0m\u001b[37m\u001b[0m \u001b[1m4s\u001b[0m 14ms/step - accuracy: 0.9606 - loss: 0.1107 - val_accuracy: 0.9624 - val_loss: 0.1080\n"
     ]
    }
   ],
   "source": [
    "history = model.fit(x_train,y_train,validation_data=(x_test,y_test),epochs=50,batch_size=1024,verbose = 1)"
   ]
  },
  {
   "cell_type": "code",
   "execution_count": 59,
   "metadata": {},
   "outputs": [
    {
     "data": {
      "text/plain": [
       "<Axes: >"
      ]
     },
     "execution_count": 59,
     "metadata": {},
     "output_type": "execute_result"
    },
    {
     "data": {
      "image/png": "[encoded data removed]",
      "text/plain": [
       "<Figure size 1000x700 with 1 Axes>"
      ]
     },
     "metadata": {},
     "output_type": "display_data"
    }
   ],
   "source": [
    "pd.DataFrame(history.history).plot(figsize=(10,7))"
   ]
  },
  {
   "cell_type": "code",
   "execution_count": 60,
   "metadata": {},
   "outputs": [
    {
     "data": {
      "text/html": [
       "<div>\n",
       "<style scoped>\n",
       "    .dataframe tbody tr th:only-of-type {\n",
       "        vertical-align: middle;\n",
       "    }\n",
       "\n",
       "    .dataframe tbody tr th {\n",
       "        vertical-align: top;\n",
       "    }\n",
       "\n",
       "    .dataframe thead th {\n",
       "        text-align: right;\n",
       "    }\n",
       "</style>\n",
       "<table border=\"1\" class=\"dataframe\">\n",
       "  <thead>\n",
       "    <tr style=\"text-align: right;\">\n",
       "      <th></th>\n",
       "      <th>MEAN_RR</th>\n",
       "      <th>RMSSD</th>\n",
       "      <th>pNN25</th>\n",
       "      <th>pNN50</th>\n",
       "      <th>LF</th>\n",
       "      <th>HF</th>\n",
       "      <th>LF_HF</th>\n",
       "    </tr>\n",
       "  </thead>\n",
       "  <tbody>\n",
       "    <tr>\n",
       "      <th>0</th>\n",
       "      <td>0.593478</td>\n",
       "      <td>0.753306</td>\n",
       "      <td>0.401704</td>\n",
       "      <td>1.818509</td>\n",
       "      <td>0.087319</td>\n",
       "      <td>0.755762</td>\n",
       "      <td>-0.283847</td>\n",
       "    </tr>\n",
       "    <tr>\n",
       "      <th>1</th>\n",
       "      <td>0.877341</td>\n",
       "      <td>1.748126</td>\n",
       "      <td>2.223828</td>\n",
       "      <td>1.010582</td>\n",
       "      <td>1.385662</td>\n",
       "      <td>-0.422092</td>\n",
       "      <td>-0.081005</td>\n",
       "    </tr>\n",
       "    <tr>\n",
       "      <th>2</th>\n",
       "      <td>-0.648994</td>\n",
       "      <td>-1.373181</td>\n",
       "      <td>-1.021831</td>\n",
       "      <td>-0.874583</td>\n",
       "      <td>-0.901427</td>\n",
       "      <td>-0.523402</td>\n",
       "      <td>-0.244624</td>\n",
       "    </tr>\n",
       "    <tr>\n",
       "      <th>3</th>\n",
       "      <td>-0.242220</td>\n",
       "      <td>0.530555</td>\n",
       "      <td>0.507452</td>\n",
       "      <td>-0.268637</td>\n",
       "      <td>1.722084</td>\n",
       "      <td>-0.385308</td>\n",
       "      <td>-0.074851</td>\n",
       "    </tr>\n",
       "    <tr>\n",
       "      <th>4</th>\n",
       "      <td>2.378888</td>\n",
       "      <td>0.469496</td>\n",
       "      <td>0.564394</td>\n",
       "      <td>-0.874583</td>\n",
       "      <td>-0.467117</td>\n",
       "      <td>-0.859691</td>\n",
       "      <td>8.354909</td>\n",
       "    </tr>\n",
       "  </tbody>\n",
       "</table>\n",
       "</div>"
      ],
      "text/plain": [
       "    MEAN_RR     RMSSD     pNN25     pNN50        LF        HF     LF_HF\n",
       "0  0.593478  0.753306  0.401704  1.818509  0.087319  0.755762 -0.283847\n",
       "1  0.877341  1.748126  2.223828  1.010582  1.385662 -0.422092 -0.081005\n",
       "2 -0.648994 -1.373181 -1.021831 -0.874583 -0.901427 -0.523402 -0.244624\n",
       "3 -0.242220  0.530555  0.507452 -0.268637  1.722084 -0.385308 -0.074851\n",
       "4  2.378888  0.469496  0.564394 -0.874583 -0.467117 -0.859691  8.354909"
      ]
     },
     "execution_count": 60,
     "metadata": {},
     "output_type": "execute_result"
    }
   ],
   "source": [
    "combined_test[features] = scaler.transform(combined_test[features])\n",
    "combined_test[features].head()"
   ]
  },
  {
   "cell_type": "code",
   "execution_count": 61,
   "metadata": {},
   "outputs": [],
   "source": [
    "x = combined_test[features].values\n",
    "y = combined_test[label].values"
   ]
  },
  {
   "cell_type": "code",
   "execution_count": 64,
   "metadata": {},
   "outputs": [
    {
     "name": "stdout",
     "output_type": "stream",
     "text": [
      "One-hot encoded labels: [[0. 1. 0.]\n",
      " [1. 0. 0.]\n",
      " [1. 0. 0.]\n",
      " [1. 0. 0.]\n",
      " [0. 0. 1.]\n",
      " [0. 1. 0.]\n",
      " [1. 0. 0.]\n",
      " [0. 1. 0.]\n",
      " [1. 0. 0.]\n",
      " [0. 1. 0.]]\n"
     ]
    },
    {
     "name": "stderr",
     "output_type": "stream",
     "text": [
      "c:\\Projects\\venv\\lib\\site-packages\\sklearn\\preprocessing\\_label.py:110: DataConversionWarning: A column-vector y was passed when a 1d array was expected. Please change the shape of y to (n_samples, ), for example using ravel().\n",
      "  y = column_or_1d(y, warn=True)\n"
     ]
    }
   ],
   "source": [
    "from sklearn.preprocessing import LabelEncoder\n",
    "from tensorflow.keras.utils import to_categorical\n",
    "\n",
    "# Assuming y contains string labels like 'no stress', 'stress', etc.\n",
    "label_encoder = LabelEncoder()\n",
    "\n",
    "# Fit the label encoder and transform the labels into integers\n",
    "y = label_encoder.fit_transform(y)\n",
    "\n",
    "# Now convert the integer labels to one-hot encoding\n",
    "y = to_categorical(y)\n",
    "\n",
    "print(\"One-hot encoded labels:\", y[:10])  # Print first 10 encoded labels for verification\n"
   ]
  },
  {
   "cell_type": "code",
   "execution_count": 65,
   "metadata": {},
   "outputs": [
    {
     "name": "stdout",
     "output_type": "stream",
     "text": [
      "\u001b[1m1283/1283\u001b[0m \u001b[32m━━━━━━━━━━━━━━━━━━━━\u001b[0m\u001b[37m\u001b[0m \u001b[1m4s\u001b[0m 3ms/step - accuracy: 0.9606 - loss: 0.1115\n"
     ]
    }
   ],
   "source": [
    "loss, acc = model.evaluate(x,y, verbose=1)"
   ]
  },
  {
   "cell_type": "code",
   "execution_count": 66,
   "metadata": {},
   "outputs": [
    {
     "name": "stdout",
     "output_type": "stream",
     "text": [
      "[[-6.79148717 -3.74264797 -1.25102906 -1.75783292 -1.64957798 -0.87743821\n",
      "  -0.32192017]]\n"
     ]
    },
    {
     "name": "stderr",
     "output_type": "stream",
     "text": [
      "c:\\Projects\\venv\\lib\\site-packages\\sklearn\\utils\\validation.py:2739: UserWarning: X does not have valid feature names, but StandardScaler was fitted with feature names\n",
      "  warnings.warn(\n"
     ]
    }
   ],
   "source": [
    "t = scaler.transform(combined_test[features].iloc[5545].values.reshape(1,-1))\n",
    "print(t)"
   ]
  },
  {
   "cell_type": "code",
   "execution_count": 67,
   "metadata": {},
   "outputs": [
    {
     "name": "stdout",
     "output_type": "stream",
     "text": [
      "\u001b[1m1/1\u001b[0m \u001b[32m━━━━━━━━━━━━━━━━━━━━\u001b[0m\u001b[37m\u001b[0m \u001b[1m0s\u001b[0m 151ms/step\n"
     ]
    }
   ],
   "source": [
    "y_pred = model.predict(t)"
   ]
  },
  {
   "cell_type": "code",
   "execution_count": 68,
   "metadata": {},
   "outputs": [
    {
     "name": "stdout",
     "output_type": "stream",
     "text": [
      "2\n",
      "condition    time pressure\n",
      "Name: 5545, dtype: object\n"
     ]
    }
   ],
   "source": [
    "print(np.argmax(y_pred[0]))\n",
    "print(combined_test[label].iloc[5545])"
   ]
  },
  {
   "cell_type": "code",
   "execution_count": 69,
   "metadata": {},
   "outputs": [
    {
     "name": "stderr",
     "output_type": "stream",
     "text": [
      "WARNING:absl:You are saving your model as an HDF5 file via `model.save()` or `keras.saving.save_model(model)`. This file format is considered legacy. We recommend using instead the native Keras format, e.g. `model.save('my_model.keras')` or `keras.saving.save_model(model, 'my_model.keras')`. \n"
     ]
    }
   ],
   "source": [
    "import joblib\n",
    "\n",
    "joblib.dump(scaler,'scaler.joblib',compress=9)\n",
    "model.save('tfmodel.h5')"
   ]
  },
  {
   "cell_type": "code",
   "execution_count": null,
   "metadata": {},
   "outputs": [],
   "source": []
  }
 ],
 "metadata": {
  "kernelspec": {
   "display_name": "venv",
   "language": "python",
   "name": "python3"
  },
  "language_info": {
   "codemirror_mode": {
    "name": "ipython",
    "version": 3
   },
   "file_extension": ".py",
   "mimetype": "text/x-python",
   "name": "python",
   "nbconvert_exporter": "python",
   "pygments_lexer": "ipython3",
   "version": "3.9.13"
  }
 },
 "nbformat": 4,
 "nbformat_minor": 2
}
